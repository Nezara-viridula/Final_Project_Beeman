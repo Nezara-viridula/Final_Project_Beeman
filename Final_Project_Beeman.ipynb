{
 "cells": [
  {
   "cell_type": "code",
   "execution_count": null,
   "metadata": {},
   "outputs": [],
   "source": [
    "#Step (1) create midline through sample site based on corrdinates provided \n",
    "#import arcpy package\n",
    "import arcpy\n",
    "#corrdinates selcted for gilgrass sampling site\n",
    "coordinates = [(-96.0508767, 36.2147766),\n",
    "               (-96.0518854, 36.2142841)]\n",
    "\n",
    "# Create a feature class (or layer) with a spatial reference of GCS WGS 1984(common world sphere coord system)\n",
    "result = arcpy.management.CreateFeatureclass(arcpy.env.scratchGDB, \"GilgrassMidLine\", \"POLYLINE\", spatial_reference=4326)\n",
    "feature_class = result[0]\n",
    "\n",
    "# Write feature (or Polyline) to new feature class\n",
    "with arcpy.da.InsertCursor(feature_class, ['SHAPE@']) as cursor:\n",
    "    cursor.insertRow([coordinates])"
   ]
  },
  {
   "cell_type": "code",
   "execution_count": null,
   "metadata": {},
   "outputs": [],
   "source": [
    "# Set variables for needed features to generate transects using builtin GIS function\n",
    "in_features = 'GilgrassMidLine'\n",
    "out_fc_1 = 'Gilgrass_transects'\n",
    "\n",
    "# Execute GeneratePointsAlongLines by distance\n",
    "arcpy.GenerateTransectsAlongLines_management(in_features, out_fc_1, '10 Meters',\n",
    "                                             '100 meters', 'END_POINTS')"
   ]
  },
  {
   "cell_type": "code",
   "execution_count": null,
   "metadata": {},
   "outputs": [],
   "source": [
    "#Now that transects are generated, need to add empty coloumn to my attributes table\n",
    "#first have ARC recognized that the transects is the object being referenced \n",
    "arcpy.env.outputCoordinateSystem = arcpy.Describe(\"Gilgrass_transects\").spatialReference\n",
    "#set variables \n",
    "in_feature = \"Gilgrass_transects\"\n",
    "fieldName2 = \"Lat_Start\"\n",
    "fieldName3 = \"Long_Start\"\n",
    "fieldName4 = \"Lat_End\"\n",
    "fieldName5 = \"Long_End\"\n",
    "#have the varibles fill table with \"double\" as text type allowed in element (default for coord.)\n",
    "arcpy.AddField_management(in_feature, fieldName2, \"DOUBLE\")\n",
    "arcpy.AddField_management(in_feature, fieldName3, \"DOUBLE\")\n",
    "arcpy.AddField_management(in_feature, fieldName4, \"DOUBLE\")\n",
    "arcpy.AddField_management(in_feature, fieldName5, \"DOUBLE\")\n",
    "#Arc now pulls the table column names and populates them with x,y coord. at the begining and end of each transect line\n",
    "arcpy.CalculateGeometryAttributes_management(in_feature, [[\"Lat_Start\", \"LINE_START_X\"],\n",
    "                                                           [\"Long_Start\", \"LINE_START_Y\"],\n",
    "                                                           [\"Lat_End\", \"LINE_END_X\"],\n",
    "                                                           [\"Long_End\", \"LINE_END_Y\"]], \"METERS\")"
   ]
  },
  {
   "cell_type": "code",
   "execution_count": null,
   "metadata": {},
   "outputs": [],
   "source": [
    "#Now want to make a stand alone table feature\n",
    "#Set variables to be converted\n",
    "inTable = \"Gilgrass_transects.dbf\"\n",
    "outLocation = \"D:\\ARCgis\\ArcGISPro\\Projects\\MyProject\\fieldsite_coord\"\n",
    "outTable = \"Gilgrass_coord\"\n",
    "\n",
    "# Execute TableToTable\n",
    "arcpy.TableToTable_conversion(inTable, outLocation, outTable)"
   ]
  },
  {
   "cell_type": "code",
   "execution_count": null,
   "metadata": {},
   "outputs": [],
   "source": [
    "#Final step. Output stand alone table to an excel file\n",
    "# Set variables\n",
    "in_table = \"Gilgrass_coord\"\n",
    "out_xls = \"Gilgrass_coord.xls\"\n",
    "\n",
    "# Execute TableToExcel\n",
    "arcpy.TableToExcel_conversion(in_table, out_xls)"
   ]
  }
 ],
 "metadata": {
  "kernelspec": {
   "display_name": "Python 3",
   "language": "python",
   "name": "python3"
  },
  "language_info": {
   "codemirror_mode": {
    "name": "ipython",
    "version": 3
   },
   "file_extension": ".py",
   "mimetype": "text/x-python",
   "name": "python",
   "nbconvert_exporter": "python",
   "pygments_lexer": "ipython3",
   "version": "3.8.3"
  }
 },
 "nbformat": 4,
 "nbformat_minor": 4
}
